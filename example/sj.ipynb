{
 "cells": [
  {
   "cell_type": "code",
   "execution_count": 2,
   "metadata": {},
   "outputs": [
    {
     "name": "stdout",
     "output_type": "stream",
     "text": [
      "Collecting shioaji\n",
      "  Using cached shioaji-0.1.2.dev9-cp37-cp37m-manylinux1_x86_64.whl (4.4 MB)\n",
      "Collecting requests==2.22.0\n",
      "  Using cached requests-2.22.0-py2.py3-none-any.whl (57 kB)\n",
      "Collecting xxhash==1.4.3\n",
      "  Using cached xxhash-1.4.3-cp37-cp37m-manylinux2010_x86_64.whl (234 kB)\n",
      "Collecting pydantic==1.0.0\n",
      "  Using cached pydantic-1.0-cp37-cp37m-manylinux1_x86_64.whl (5.7 MB)\n",
      "Collecting sentry-sdk==0.14.1\n",
      "  Using cached sentry_sdk-0.14.1-py2.py3-none-any.whl (93 kB)\n",
      "Collecting pysolace==0.2.5\n",
      "  Using cached pysolace-0.2.5-cp37-cp37m-manylinux2010_x86_64.whl (5.9 MB)\n",
      "Collecting loguru==0.4.1\n",
      "  Using cached loguru-0.4.1-py3-none-any.whl (54 kB)\n",
      "Requirement already satisfied: certifi>=2017.4.17 in /home/ypochien/miniconda/envs/jupyterlab-ext/lib/python3.7/site-packages (from requests==2.22.0->shioaji) (2019.11.28)\n",
      "Requirement already satisfied: urllib3!=1.25.0,!=1.25.1,<1.26,>=1.21.1 in /home/ypochien/miniconda/envs/jupyterlab-ext/lib/python3.7/site-packages (from requests==2.22.0->shioaji) (1.25.8)\n",
      "Collecting idna<2.9,>=2.5\n",
      "  Using cached idna-2.8-py2.py3-none-any.whl (58 kB)\n",
      "Requirement already satisfied: chardet<3.1.0,>=3.0.2 in /home/ypochien/miniconda/envs/jupyterlab-ext/lib/python3.7/site-packages (from requests==2.22.0->shioaji) (3.0.4)\n",
      "Collecting msgpack\n",
      "  Downloading msgpack-1.0.0-cp37-cp37m-manylinux1_x86_64.whl (275 kB)\n",
      "\u001b[K     |████████████████████████████████| 275 kB 1.1 MB/s eta 0:00:01\n",
      "\u001b[?25hInstalling collected packages: idna, requests, xxhash, pydantic, sentry-sdk, msgpack, loguru, pysolace, shioaji\n",
      "  Attempting uninstall: idna\n",
      "    Found existing installation: idna 2.9\n",
      "    Uninstalling idna-2.9:\n",
      "      Successfully uninstalled idna-2.9\n",
      "  Attempting uninstall: requests\n",
      "    Found existing installation: requests 2.23.0\n",
      "    Uninstalling requests-2.23.0:\n",
      "      Successfully uninstalled requests-2.23.0\n",
      "Successfully installed idna-2.8 loguru-0.4.1 msgpack-1.0.0 pydantic-1.0 pysolace-0.2.5 requests-2.22.0 sentry-sdk-0.14.1 shioaji-0.1.2.dev9 xxhash-1.4.3\n"
     ]
    }
   ],
   "source": [
    "! pip install shioaji"
   ]
  },
  {
   "cell_type": "code",
   "execution_count": 1,
   "metadata": {},
   "outputs": [],
   "source": [
    "import json\n",
    "import datetime\n",
    "import shioaji as sj\n",
    "import dolphindb\n",
    "import pandas as pd\n",
    "import yvis"
   ]
  },
  {
   "cell_type": "code",
   "execution_count": 2,
   "metadata": {},
   "outputs": [],
   "source": [
    "# dsess = dolphindb.session()\n",
    "# dsess.connect(\"localhost\", 8848, 'admin', 'sts.ec6.sts.130')"
   ]
  },
  {
   "cell_type": "code",
   "execution_count": 3,
   "metadata": {},
   "outputs": [
    {
     "name": "stdout",
     "output_type": "stream",
     "text": [
      "Response Code: 0 | Event Code: 0 | Info: host '203.66.91.161:80', IP 203.66.91.161:80 (host 1 of 1) (host connection attempt 1 of 1) (total connection attempt 1 of 1) | Event: Session up\n"
     ]
    }
   ],
   "source": [
    "api = sj.Shioaji()"
   ]
  },
  {
   "cell_type": "code",
   "execution_count": 4,
   "metadata": {},
   "outputs": [],
   "source": [
    "with open('login.json', 'r') as f:\n",
    "    login_kwargs = json.loads(f.read())"
   ]
  },
  {
   "cell_type": "code",
   "execution_count": 5,
   "metadata": {},
   "outputs": [
    {
     "data": {
      "text/plain": [
       "[FutureAccount(person_id='E224477313', broker_id='F002000', account_id='1481679', signed=True, username='蕭采容'),\n",
       " Account(account_type=<AccountType.H: 'H'>, person_id='E224477313', broker_id='9A95', account_id='0082039', signed=True, username='蕭采容'),\n",
       " StockAccount(person_id='E224477313', broker_id='9A95', account_id='0518472', signed=True, username='蕭采容\\u3000\\u3000')]"
      ]
     },
     "execution_count": 5,
     "metadata": {},
     "output_type": "execute_result"
    },
    {
     "name": "stdout",
     "output_type": "stream",
     "text": [
      "SecurityType.Index\n",
      "SecurityType.Future\n",
      "SecurityType.Option\n",
      "SecurityType.Stock\n"
     ]
    }
   ],
   "source": [
    "api.login(**login_kwargs, hashed=True, contracts_cb=print)"
   ]
  },
  {
   "cell_type": "code",
   "execution_count": null,
   "metadata": {},
   "outputs": [],
   "source": []
  },
  {
   "cell_type": "code",
   "execution_count": 6,
   "metadata": {},
   "outputs": [
    {
     "data": {
      "text/plain": [
       "Stock(exchange=<Exchange.TSE: 'TSE'>, code='2313', symbol='TSE2313', name='華通', category='28', limit_up=32.3, limit_down=26.5, reference=29.4, update_date='2020/03/26', day_trade=<DayTrade.Yes: 'Yes'>)"
      ]
     },
     "execution_count": 6,
     "metadata": {},
     "output_type": "execute_result"
    }
   ],
   "source": [
    "c = api.Contracts.Stocks['2313']\n",
    "c"
   ]
  },
  {
   "cell_type": "code",
   "execution_count": 39,
   "metadata": {},
   "outputs": [],
   "source": [
    "ticks_data = api.ticks(c, date=datetime.date.today().strftime(\"%Y-%m-%d\"), timeout=100000)"
   ]
  },
  {
   "cell_type": "code",
   "execution_count": 40,
   "metadata": {},
   "outputs": [],
   "source": [
    "df_ticks = pd.DataFrame({**ticks_data})"
   ]
  },
  {
   "cell_type": "code",
   "execution_count": 41,
   "metadata": {},
   "outputs": [],
   "source": [
    "df_ticks['ts'] = pd.to_datetime(df_ticks['ts'])"
   ]
  },
  {
   "cell_type": "code",
   "execution_count": 10,
   "metadata": {},
   "outputs": [
    {
     "data": {
      "text/plain": [
       "bid_price                   31.25\n",
       "ask_volume                    152\n",
       "volume                        189\n",
       "ts            2020-03-26 14:30:00\n",
       "ask_price                    31.3\n",
       "close                        31.3\n",
       "bid_volume                     30\n",
       "Name: 12522, dtype: object"
      ]
     },
     "execution_count": 10,
     "metadata": {},
     "output_type": "execute_result"
    }
   ],
   "source": [
    "df_ticks.iloc[-1]"
   ]
  },
  {
   "cell_type": "code",
   "execution_count": 11,
   "metadata": {},
   "outputs": [],
   "source": [
    "df_ticks_init = df_ticks.head(10)"
   ]
  },
  {
   "cell_type": "code",
   "execution_count": 12,
   "metadata": {},
   "outputs": [
    {
     "data": {
      "text/html": [
       "<div>\n",
       "<style scoped>\n",
       "    .dataframe tbody tr th:only-of-type {\n",
       "        vertical-align: middle;\n",
       "    }\n",
       "\n",
       "    .dataframe tbody tr th {\n",
       "        vertical-align: top;\n",
       "    }\n",
       "\n",
       "    .dataframe thead th {\n",
       "        text-align: right;\n",
       "    }\n",
       "</style>\n",
       "<table border=\"1\" class=\"dataframe\">\n",
       "  <thead>\n",
       "    <tr style=\"text-align: right;\">\n",
       "      <th></th>\n",
       "      <th>ts</th>\n",
       "      <th>close</th>\n",
       "      <th>volume</th>\n",
       "      <th>ask_price</th>\n",
       "      <th>ask_volume</th>\n",
       "      <th>bid_price</th>\n",
       "      <th>bid_volume</th>\n",
       "    </tr>\n",
       "  </thead>\n",
       "  <tbody>\n",
       "    <tr>\n",
       "      <th>0</th>\n",
       "      <td>2020-03-26 09:00:05.064664</td>\n",
       "      <td>30.10</td>\n",
       "      <td>1537</td>\n",
       "      <td>30.1</td>\n",
       "      <td>21</td>\n",
       "      <td>30.05</td>\n",
       "      <td>104</td>\n",
       "    </tr>\n",
       "    <tr>\n",
       "      <th>1</th>\n",
       "      <td>2020-03-26 09:00:05.663441</td>\n",
       "      <td>30.05</td>\n",
       "      <td>2</td>\n",
       "      <td>30.1</td>\n",
       "      <td>32</td>\n",
       "      <td>30.05</td>\n",
       "      <td>102</td>\n",
       "    </tr>\n",
       "    <tr>\n",
       "      <th>2</th>\n",
       "      <td>2020-03-26 09:00:06.250607</td>\n",
       "      <td>30.05</td>\n",
       "      <td>2</td>\n",
       "      <td>30.1</td>\n",
       "      <td>33</td>\n",
       "      <td>30.05</td>\n",
       "      <td>100</td>\n",
       "    </tr>\n",
       "    <tr>\n",
       "      <th>3</th>\n",
       "      <td>2020-03-26 09:00:06.297073</td>\n",
       "      <td>30.05</td>\n",
       "      <td>2</td>\n",
       "      <td>30.1</td>\n",
       "      <td>33</td>\n",
       "      <td>30.05</td>\n",
       "      <td>98</td>\n",
       "    </tr>\n",
       "    <tr>\n",
       "      <th>4</th>\n",
       "      <td>2020-03-26 09:00:06.305245</td>\n",
       "      <td>30.05</td>\n",
       "      <td>1</td>\n",
       "      <td>30.1</td>\n",
       "      <td>33</td>\n",
       "      <td>30.05</td>\n",
       "      <td>97</td>\n",
       "    </tr>\n",
       "    <tr>\n",
       "      <th>5</th>\n",
       "      <td>2020-03-26 09:00:06.603459</td>\n",
       "      <td>30.10</td>\n",
       "      <td>3</td>\n",
       "      <td>30.1</td>\n",
       "      <td>30</td>\n",
       "      <td>30.05</td>\n",
       "      <td>97</td>\n",
       "    </tr>\n",
       "    <tr>\n",
       "      <th>6</th>\n",
       "      <td>2020-03-26 09:00:07.172143</td>\n",
       "      <td>30.05</td>\n",
       "      <td>1</td>\n",
       "      <td>30.1</td>\n",
       "      <td>30</td>\n",
       "      <td>30.05</td>\n",
       "      <td>96</td>\n",
       "    </tr>\n",
       "    <tr>\n",
       "      <th>7</th>\n",
       "      <td>2020-03-26 09:00:07.214110</td>\n",
       "      <td>30.05</td>\n",
       "      <td>6</td>\n",
       "      <td>30.1</td>\n",
       "      <td>30</td>\n",
       "      <td>30.05</td>\n",
       "      <td>90</td>\n",
       "    </tr>\n",
       "    <tr>\n",
       "      <th>8</th>\n",
       "      <td>2020-03-26 09:00:07.215635</td>\n",
       "      <td>30.05</td>\n",
       "      <td>2</td>\n",
       "      <td>30.1</td>\n",
       "      <td>30</td>\n",
       "      <td>30.05</td>\n",
       "      <td>88</td>\n",
       "    </tr>\n",
       "    <tr>\n",
       "      <th>9</th>\n",
       "      <td>2020-03-26 09:00:08.145023</td>\n",
       "      <td>30.10</td>\n",
       "      <td>1</td>\n",
       "      <td>30.1</td>\n",
       "      <td>29</td>\n",
       "      <td>30.05</td>\n",
       "      <td>89</td>\n",
       "    </tr>\n",
       "  </tbody>\n",
       "</table>\n",
       "</div>"
      ],
      "text/plain": [
       "                          ts  close  volume  ask_price  ask_volume  bid_price  \\\n",
       "0 2020-03-26 09:00:05.064664  30.10    1537       30.1          21      30.05   \n",
       "1 2020-03-26 09:00:05.663441  30.05       2       30.1          32      30.05   \n",
       "2 2020-03-26 09:00:06.250607  30.05       2       30.1          33      30.05   \n",
       "3 2020-03-26 09:00:06.297073  30.05       2       30.1          33      30.05   \n",
       "4 2020-03-26 09:00:06.305245  30.05       1       30.1          33      30.05   \n",
       "5 2020-03-26 09:00:06.603459  30.10       3       30.1          30      30.05   \n",
       "6 2020-03-26 09:00:07.172143  30.05       1       30.1          30      30.05   \n",
       "7 2020-03-26 09:00:07.214110  30.05       6       30.1          30      30.05   \n",
       "8 2020-03-26 09:00:07.215635  30.05       2       30.1          30      30.05   \n",
       "9 2020-03-26 09:00:08.145023  30.10       1       30.1          29      30.05   \n",
       "\n",
       "   bid_volume  \n",
       "0         104  \n",
       "1         102  \n",
       "2         100  \n",
       "3          98  \n",
       "4          97  \n",
       "5          97  \n",
       "6          96  \n",
       "7          90  \n",
       "8          88  \n",
       "9          89  "
      ]
     },
     "execution_count": 12,
     "metadata": {},
     "output_type": "execute_result"
    }
   ],
   "source": [
    "df_ticks_init[['ts', 'close', 'volume', 'ask_price', 'ask_volume', 'bid_price', 'bid_volume']]"
   ]
  },
  {
   "cell_type": "code",
   "execution_count": 13,
   "metadata": {},
   "outputs": [
    {
     "data": {
      "text/plain": [
       "29.4"
      ]
     },
     "execution_count": 13,
     "metadata": {},
     "output_type": "execute_result"
    }
   ],
   "source": [
    "c.reference"
   ]
  },
  {
   "cell_type": "code",
   "execution_count": 18,
   "metadata": {},
   "outputs": [
    {
     "data": {
      "application/vnd.yvis.v1+json": {
       "meta": {
        "height": "600px",
        "scope": "init",
        "width": "800px"
       },
       "option": {
        "dataZoom": [
         {
          "end": 100,
          "start": 0,
          "type": "inside",
          "xAxisIndex": [
           0
          ]
         },
         {
          "end": 100,
          "start": 0,
          "type": "slider",
          "xAxisIndex": [
           0
          ]
         }
        ],
        "dataset": [
         {
          "source": {
           "date": [],
           "price": [],
           "volume": []
          }
         }
        ],
        "series": [
         {
          "encode": {
           "x": "date",
           "y": "close"
          },
          "markLine": {
           "data": [
            {
             "yAxis": 29.4
            }
           ],
           "label": {
            "position": "start",
            "show": true
           },
           "symbol": "none"
          },
          "showSymbol": false,
          "type": "line",
          "yAxisIndex": 0
         },
         {
          "encode": {
           "x": "date",
           "y": "volume"
          },
          "showSymbol": false,
          "type": "bar",
          "yAxisIndex": 1
         }
        ],
        "tooltip": {
         "axisPointer": {
          "type": "cross"
         },
         "position": [
          "90%",
          "10%"
         ],
         "trigger": "axis"
        },
        "xAxis": {
         "scale": true,
         "type": "time"
        },
        "yAxis": [
         {
          "max": 32.3,
          "min": 26.5,
          "scale": true,
          "type": "value"
         },
         {
          "scale": true,
          "type": "value"
         }
        ]
       }
      }
     },
     "metadata": {},
     "output_type": "display_data"
    }
   ],
   "source": [
    "chart = yvis.PVChart(date=[], price=[], volume=[], \n",
    "                     price_max=c.limit_up, price_min=c.limit_down, \n",
    "                     price_ref=c.reference)"
   ]
  },
  {
   "cell_type": "code",
   "execution_count": 53,
   "metadata": {},
   "outputs": [
    {
     "data": {
      "application/vnd.yvis.v1+json": {
       "meta": {
        "height": "600px",
        "scope": "append",
        "width": "800px"
       },
       "option": {
        "dataset": [
         {
          "source": {
           "date": [
            "2020-03-26 09:50:57.068"
           ],
           "price": [
            29.3
           ],
           "volume": [
            1
           ]
          }
         }
        ]
       }
      }
     },
     "metadata": {},
     "output_type": "display_data"
    }
   ],
   "source": [
    "chart = yvis.PVChart(date=df_ticks_init.ts.astype(str).map(lambda x: x[:-3]).tolist(), \n",
    "                     price=df_ticks_init.close.tolist(), \n",
    "                     volume=df_ticks_init.volume.tolist(), \n",
    "                     price_max=c.limit_up, price_min=c.limit_down, price_ref=c.reference)"
   ]
  },
  {
   "cell_type": "code",
   "execution_count": null,
   "metadata": {},
   "outputs": [],
   "source": [
    "df_ticks['ts'] = df_ticks.ts.astype(str)#.map(lambda x: x[:-3])\n",
    "updater = ChartUpdater(chart, c.code)\n",
    "topic = c.code\n",
    "for idx, row in df_ticks.iloc[10:].iterrows():\n",
    "    quote = {\"Date\": row.ts[:10], \"Time\": row.ts[11:], \"Close\": [row.close], 'Volume': [row.volume]}\n",
    "    updater.on_quote(topic, quote)\n",
    "    time.sleep(0.1)"
   ]
  },
  {
   "cell_type": "code",
   "execution_count": 50,
   "metadata": {},
   "outputs": [],
   "source": [
    "class ChartUpdater:\n",
    "    def __init__(self, chart: yvis.PVChart, code: str):\n",
    "        self.chart = chart\n",
    "        self.code = code\n",
    "    \n",
    "    def on_quote(self, topic, quote):\n",
    "        code = topic.split('/')[-1]\n",
    "        if self.code == code:\n",
    "            dt = f\"{quote.get('Date', '').replace('/', '-')} {quote.get('Time', '')[:-3]}\"\n",
    "            price = quote.get('Close', [])\n",
    "            date = [dt for _ in price]\n",
    "            volume = quote.get('Volume', [])\n",
    "            # print(date, price, volume)\n",
    "            self.chart.update(date, price, volume)"
   ]
  },
  {
   "cell_type": "code",
   "execution_count": 30,
   "metadata": {},
   "outputs": [],
   "source": [
    "r = df_ticks.iloc[60: 90]\n",
    "#chart.update(date=r.ts.tolist(), price=r.close.tolist(), volume=r.volume.tolist())"
   ]
  },
  {
   "cell_type": "code",
   "execution_count": 31,
   "metadata": {},
   "outputs": [],
   "source": []
  },
  {
   "cell_type": "code",
   "execution_count": 45,
   "metadata": {},
   "outputs": [],
   "source": [
    "updater = ChartUpdater(chart, c.code)"
   ]
  },
  {
   "cell_type": "code",
   "execution_count": 42,
   "metadata": {},
   "outputs": [],
   "source": [
    "df_ticks['ts'] = df_ticks.ts.astype(str)#.map(lambda x: x[:-3])"
   ]
  },
  {
   "cell_type": "code",
   "execution_count": 46,
   "metadata": {},
   "outputs": [],
   "source": [
    "import time"
   ]
  },
  {
   "cell_type": "code",
   "execution_count": null,
   "metadata": {},
   "outputs": [],
   "source": []
  },
  {
   "cell_type": "code",
   "execution_count": 26,
   "metadata": {},
   "outputs": [],
   "source": [
    "api.quote.set_quote_callback(updater.on_quote)"
   ]
  },
  {
   "cell_type": "code",
   "execution_count": null,
   "metadata": {},
   "outputs": [],
   "source": []
  },
  {
   "cell_type": "code",
   "execution_count": null,
   "metadata": {},
   "outputs": [],
   "source": []
  },
  {
   "cell_type": "code",
   "execution_count": null,
   "metadata": {},
   "outputs": [],
   "source": []
  },
  {
   "cell_type": "code",
   "execution_count": 11,
   "metadata": {},
   "outputs": [
    {
     "data": {
      "text/plain": [
       "Etooltip(trigger=<EtooltipTrigger.axis: 'axis'>, axisPointer=EaxisPoint(type=<EaxisPointType.cross: 'cross'>), position=['90%', '10%'])"
      ]
     },
     "execution_count": 11,
     "metadata": {},
     "output_type": "execute_result"
    }
   ],
   "source": [
    "chart.content.option.tooltip"
   ]
  },
  {
   "cell_type": "code",
   "execution_count": 19,
   "metadata": {},
   "outputs": [
    {
     "name": "stdout",
     "output_type": "stream",
     "text": [
      "Response Code: 200 | Event Code: 16 | Info: MKT/*/TSE/2330 | Event: Subscribe or Unsubscribe ok\n"
     ]
    }
   ],
   "source": [
    "api.quote.subscribe(api.Contracts.Stocks['2330'])"
   ]
  },
  {
   "cell_type": "code",
   "execution_count": 20,
   "metadata": {},
   "outputs": [
    {
     "name": "stdout",
     "output_type": "stream",
     "text": [
      "Response Code: 200 | Event Code: 16 | Info: QUT/*/TSE/2330 | Event: Subscribe or Unsubscribe ok\n"
     ]
    }
   ],
   "source": [
    "api.quote.subscribe(api.Contracts.Stocks['2330'], 'bidask')"
   ]
  },
  {
   "cell_type": "code",
   "execution_count": 21,
   "metadata": {},
   "outputs": [
    {
     "data": {
      "text/plain": [
       "dict_keys(['MKT/idcdmzpcr01/TSE/2330', 'QUT/idcdmzpcr01/TSE/2330'])"
      ]
     },
     "execution_count": 21,
     "metadata": {},
     "output_type": "execute_result"
    }
   ],
   "source": [
    "quote_collector.quotes.keys()"
   ]
  },
  {
   "cell_type": "code",
   "execution_count": 23,
   "metadata": {},
   "outputs": [],
   "source": [
    "ticks = quote_collector.quotes['MKT/idcdmzpcr01/TSE/2330']"
   ]
  },
  {
   "cell_type": "code",
   "execution_count": 24,
   "metadata": {},
   "outputs": [
    {
     "data": {
      "text/plain": [
       "[{'AmountSum': [5945281500.0],\n",
       "  'Close': [279.5],\n",
       "  'Date': '2020/03/25',\n",
       "  'TickType': [1],\n",
       "  'Time': '09:13:53.755539',\n",
       "  'VolSum': [21362],\n",
       "  'Volume': [13]},\n",
       " {'AmountSum': [5945560500.0],\n",
       "  'Close': [279.0],\n",
       "  'Date': '2020/03/25',\n",
       "  'TickType': [2],\n",
       "  'Time': '09:13:54.067044',\n",
       "  'VolSum': [21363],\n",
       "  'Volume': [1]},\n",
       " {'AmountSum': [5945840000.0],\n",
       "  'Close': [279.5],\n",
       "  'Date': '2020/03/25',\n",
       "  'TickType': [1],\n",
       "  'Time': '09:13:54.462032',\n",
       "  'VolSum': [21364],\n",
       "  'Volume': [1]},\n",
       " {'AmountSum': [5946119000.0],\n",
       "  'Close': [279.0],\n",
       "  'Date': '2020/03/25',\n",
       "  'TickType': [2],\n",
       "  'Time': '09:13:54.911380',\n",
       "  'VolSum': [21365],\n",
       "  'Volume': [1]},\n",
       " {'AmountSum': [5946398500.0],\n",
       "  'Close': [279.5],\n",
       "  'Date': '2020/03/25',\n",
       "  'TickType': [1],\n",
       "  'Time': '09:13:55.134611',\n",
       "  'VolSum': [21366],\n",
       "  'Volume': [1]}]"
      ]
     },
     "execution_count": 24,
     "metadata": {},
     "output_type": "execute_result"
    }
   ],
   "source": [
    "[t['Close'] for t in  ticks][:5]"
   ]
  },
  {
   "cell_type": "code",
   "execution_count": null,
   "metadata": {},
   "outputs": [],
   "source": [
    "close = [t['Close'][0] for t in  ticks]"
   ]
  },
  {
   "cell_type": "code",
   "execution_count": null,
   "metadata": {},
   "outputs": [],
   "source": []
  },
  {
   "cell_type": "code",
   "execution_count": null,
   "metadata": {},
   "outputs": [],
   "source": []
  },
  {
   "cell_type": "code",
   "execution_count": 8,
   "metadata": {},
   "outputs": [
    {
     "data": {
      "text/plain": [
       "Future(code='TXFD0', symbol='TXF202004', name='臺股期貨', category='TXF', delivery_month='202004', underlying_kind='I', limit_up=9531.0, limit_down=7799.0, reference=8665.0, update_date='2020/03/24')"
      ]
     },
     "execution_count": 8,
     "metadata": {},
     "output_type": "execute_result"
    }
   ],
   "source": [
    "fc = sorted([txf for txf in api.Contracts.Futures.TXF], \n",
    "            key=lambda x: x.delivery_month)[0]\n",
    "fc"
   ]
  },
  {
   "cell_type": "code",
   "execution_count": 63,
   "metadata": {},
   "outputs": [
    {
     "data": {
      "text/plain": [
       "'2020-03-24'"
      ]
     },
     "execution_count": 63,
     "metadata": {},
     "output_type": "execute_result"
    }
   ],
   "source": [
    "datetime.date.today().strftime(\"%Y-%m-%d\")"
   ]
  },
  {
   "cell_type": "code",
   "execution_count": null,
   "metadata": {},
   "outputs": [],
   "source": [
    "ticks_data = api.ticks(fc, date=datetime.date.today().strftime(\"%Y-%m-%d\"), timeout=0)#100000)"
   ]
  },
  {
   "cell_type": "code",
   "execution_count": null,
   "metadata": {},
   "outputs": [],
   "source": []
  },
  {
   "cell_type": "code",
   "execution_count": 64,
   "metadata": {},
   "outputs": [
    {
     "data": {
      "text/plain": [
       "Ticks(ts=[], close=[], volume=[], bid_price=[], bid_volume=[], ask_price=[], ask_volume=[])"
      ]
     },
     "execution_count": 64,
     "metadata": {},
     "output_type": "execute_result"
    }
   ],
   "source": [
    "ticks_data"
   ]
  },
  {
   "cell_type": "code",
   "execution_count": 60,
   "metadata": {},
   "outputs": [],
   "source": [
    "df_ticks = pd.DataFrame({**ticks_data})"
   ]
  },
  {
   "cell_type": "code",
   "execution_count": 61,
   "metadata": {},
   "outputs": [
    {
     "data": {
      "text/html": [
       "<div>\n",
       "<style scoped>\n",
       "    .dataframe tbody tr th:only-of-type {\n",
       "        vertical-align: middle;\n",
       "    }\n",
       "\n",
       "    .dataframe tbody tr th {\n",
       "        vertical-align: top;\n",
       "    }\n",
       "\n",
       "    .dataframe thead th {\n",
       "        text-align: right;\n",
       "    }\n",
       "</style>\n",
       "<table border=\"1\" class=\"dataframe\">\n",
       "  <thead>\n",
       "    <tr style=\"text-align: right;\">\n",
       "      <th></th>\n",
       "      <th>volume</th>\n",
       "      <th>ask_price</th>\n",
       "      <th>ts</th>\n",
       "      <th>close</th>\n",
       "      <th>bid_price</th>\n",
       "      <th>bid_volume</th>\n",
       "      <th>ask_volume</th>\n",
       "    </tr>\n",
       "  </thead>\n",
       "  <tbody>\n",
       "  </tbody>\n",
       "</table>\n",
       "</div>"
      ],
      "text/plain": [
       "Empty DataFrame\n",
       "Columns: [volume, ask_price, ts, close, bid_price, bid_volume, ask_volume]\n",
       "Index: []"
      ]
     },
     "execution_count": 61,
     "metadata": {},
     "output_type": "execute_result"
    }
   ],
   "source": [
    "df_ticks"
   ]
  },
  {
   "cell_type": "code",
   "execution_count": 16,
   "metadata": {},
   "outputs": [],
   "source": [
    "from collections import defaultdict\n",
    "class QuoteCollector:\n",
    "    def __init__(self):\n",
    "        self.quotes = defaultdict(list)\n",
    "    \n",
    "    def append_quote(self, topic: str, quote: dict):\n",
    "        self.quotes[topic].append(quote)"
   ]
  },
  {
   "cell_type": "code",
   "execution_count": 17,
   "metadata": {},
   "outputs": [],
   "source": [
    "quote_collector = QuoteCollector()"
   ]
  },
  {
   "cell_type": "code",
   "execution_count": 18,
   "metadata": {},
   "outputs": [],
   "source": [
    "api.quote.set_quote_callback(quote_collector.append_quote)"
   ]
  },
  {
   "cell_type": "code",
   "execution_count": 12,
   "metadata": {},
   "outputs": [
    {
     "name": "stdout",
     "output_type": "stream",
     "text": [
      "Response Code: 200 | Event Code: 16 | Info: L/*/TXFD0 | Event: Subscribe or Unsubscribe ok\n"
     ]
    }
   ],
   "source": [
    "api.quote.subscribe(fc)"
   ]
  },
  {
   "cell_type": "code",
   "execution_count": 13,
   "metadata": {},
   "outputs": [
    {
     "name": "stdout",
     "output_type": "stream",
     "text": [
      "Response Code: 200 | Event Code: 16 | Info: Q/*/TXFD0 | Event: Subscribe or Unsubscribe ok\n"
     ]
    }
   ],
   "source": [
    "api.quote.subscribe(fc, 'bidask')"
   ]
  },
  {
   "cell_type": "code",
   "execution_count": 16,
   "metadata": {},
   "outputs": [],
   "source": [
    "ticks = quote_collector.quotes[f'L/TFE/{fc.code}']"
   ]
  },
  {
   "cell_type": "code",
   "execution_count": 32,
   "metadata": {},
   "outputs": [
    {
     "data": {
      "text/plain": [
       "573"
      ]
     },
     "execution_count": 32,
     "metadata": {},
     "output_type": "execute_result"
    }
   ],
   "source": [
    "len(ticks)"
   ]
  },
  {
   "cell_type": "code",
   "execution_count": 45,
   "metadata": {},
   "outputs": [],
   "source": [
    "close = [t['Close'][0] for t in  ticks]"
   ]
  },
  {
   "cell_type": "code",
   "execution_count": 46,
   "metadata": {},
   "outputs": [],
   "source": [
    "volume = [t['Volume'][0] for t in  ticks]"
   ]
  },
  {
   "cell_type": "code",
   "execution_count": 47,
   "metadata": {},
   "outputs": [],
   "source": [
    "dt = [t['Date'].replace('/', '-') + ' ' + t['Time'][:-3] for t in  ticks]"
   ]
  },
  {
   "cell_type": "code",
   "execution_count": 21,
   "metadata": {},
   "outputs": [],
   "source": []
  },
  {
   "cell_type": "code",
   "execution_count": 48,
   "metadata": {},
   "outputs": [
    {
     "data": {
      "application/vnd.yvis.v1+json": {
       "meta": {
        "height": "600px",
        "scope": "append",
        "width": "800px"
       },
       "option": {
        "dataset": [
         {
          "source": {
           "date": [
            "2020-03-24 16:00:05.270",
            "2020-03-24 16:00:05.433",
            "2020-03-24 16:00:05.611",
            "2020-03-24 16:00:05.727",
            "2020-03-24 16:00:08.309",
            "2020-03-24 16:00:08.967",
            "2020-03-24 16:00:08.967",
            "2020-03-24 16:00:08.969",
            "2020-03-24 16:00:08.969",
            "2020-03-24 16:00:08.969"
           ],
           "price": [
            9293,
            9294,
            9292,
            9292,
            9292,
            9292,
            9292,
            9291,
            9291,
            9291
           ],
           "volume": [
            2,
            1,
            1,
            1,
            1,
            2,
            2,
            2,
            1,
            1
           ]
          }
         }
        ]
       }
      }
     },
     "metadata": {},
     "output_type": "display_data"
    }
   ],
   "source": [
    "st = 0\n",
    "step = 10\n",
    "end = st + step\n",
    "chart = yvis.PVChart(date=dt[st:end], price=close[st:end], volume=volume[st:end])"
   ]
  },
  {
   "cell_type": "code",
   "execution_count": 52,
   "metadata": {},
   "outputs": [],
   "source": [
    "# chart.content.option.dataset[0].source"
   ]
  },
  {
   "cell_type": "code",
   "execution_count": 50,
   "metadata": {},
   "outputs": [],
   "source": [
    "for i in range(1, 20):\n",
    "    st = i * step\n",
    "    end = st + step\n",
    "    chart.update(date=dt[st:end], price=close[st:end], volume=volume[st:end])\n",
    "    #print(i, st, end)"
   ]
  },
  {
   "cell_type": "code",
   "execution_count": 36,
   "metadata": {},
   "outputs": [],
   "source": []
  },
  {
   "cell_type": "code",
   "execution_count": null,
   "metadata": {},
   "outputs": [],
   "source": []
  }
 ],
 "metadata": {
  "kernelspec": {
   "display_name": "Python 3",
   "language": "python",
   "name": "python3"
  },
  "language_info": {
   "codemirror_mode": {
    "name": "ipython",
    "version": 3
   },
   "file_extension": ".py",
   "mimetype": "text/x-python",
   "name": "python",
   "nbconvert_exporter": "python",
   "pygments_lexer": "ipython3",
   "version": "3.7.6"
  }
 },
 "nbformat": 4,
 "nbformat_minor": 4
}

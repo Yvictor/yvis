{
 "cells": [
  {
   "cell_type": "code",
   "execution_count": 3,
   "metadata": {},
   "outputs": [],
   "source": [
    "import shioaji"
   ]
  },
  {
   "cell_type": "code",
   "execution_count": 1,
   "metadata": {},
   "outputs": [],
   "source": [
    "from IPython.display import display, Image, DisplayObject, publish_display_data, update_display"
   ]
  },
  {
   "cell_type": "code",
   "execution_count": 6,
   "metadata": {},
   "outputs": [],
   "source": [
    "data = {\n",
    "    \"meta\": {\"scope\": \"init\",  \"height\": '300px', \"width\": '800px'},\n",
    "    \"option\": {\n",
    "        \"dataset\": [{\n",
    "            \"source\": {\n",
    "                \"date\": [\"2020-03-04 09:00:00.821\", \"2020-03-04 09:00:05.836\", \"2020-03-04 09:00:10.849\", \"2020-03-04 09:00:15.864\", \"2020-03-04 09:00:20.877\"],\n",
    "                \"close\": [322.0, 321.5, 321.0, 321.0, 322.0],\n",
    "                \"volume\": [5098, 91, 126, 59, 90]\n",
    "            }\n",
    "        }],\n",
    "        \"xAxis\": {\n",
    "            \"type\": \"time\",\n",
    "            \"scale\": True\n",
    "        },\n",
    "        \"yAxis\": [{\n",
    "            \"type\": \"value\",\n",
    "            \"scale\": True\n",
    "        }, {\n",
    "            \"type\": \"value\",\n",
    "            \"scale\": True\n",
    "        }\n",
    "        ],\n",
    "        \"series\": [\n",
    "            {\n",
    "                \"type\": \"line\",\n",
    "                \"encode\": {\n",
    "                    \"x\": \"date\",\n",
    "                    \"y\": \"close\"\n",
    "                }\n",
    "            },\n",
    "            {\n",
    "                \"type\": \"bar\",\n",
    "                \"encode\": {\n",
    "                    \"x\": \"date\",\n",
    "                    \"y\": \"volume\"\n",
    "                },\n",
    "                \"yAxisIndex\": 1\n",
    "            }\n",
    "        ]\n",
    "    }\n",
    "\n",
    "}"
   ]
  },
  {
   "cell_type": "code",
   "execution_count": 7,
   "metadata": {},
   "outputs": [
    {
     "data": {
      "application/vnd.yvis.v1+json": {
       "meta": {
        "height": "300px",
        "scope": "append",
        "width": "800px"
       },
       "option": {
        "dataset": [
         {
          "source": {
           "close": [
            322,
            321.5,
            321,
            321,
            322
           ],
           "date": [
            "2020-03-04 09:00:25.821",
            "2020-03-04 09:00:35.836",
            "2020-03-04 09:00:40.849",
            "2020-03-04 09:00:45.864",
            "2020-03-04 09:00:55.877"
           ],
           "volume": [
            5098,
            91,
            126,
            59,
            90
           ]
          }
         }
        ]
       }
      }
     },
     "metadata": {},
     "output_type": "display_data"
    }
   ],
   "source": [
    "res = display({\n",
    "    \"application/vnd.yvis.v1+json\": data\n",
    "}, raw=True, display_id=True)"
   ]
  },
  {
   "cell_type": "code",
   "execution_count": 9,
   "metadata": {},
   "outputs": [],
   "source": [
    "data = {\n",
    "    \"meta\": {\"scope\": \"append\",  \"height\": '300px', \"width\": '800px'},\n",
    "    \"option\": {\n",
    "        \"dataset\": [{\n",
    "            \"source\": {\n",
    "                \"date\": [\"2020-03-04 09:00:25.821\", \"2020-03-04 09:00:35.836\", \"2020-03-04 09:00:40.849\", \"2020-03-04 09:00:45.864\", \"2020-03-04 09:00:55.877\"],\n",
    "                \"close\": [322.0, 321.5, 321.0, 321.0, 322.0],\n",
    "                \"volume\": [5098, 91, 126, 59, 90]\n",
    "            }\n",
    "        }],\n",
    "    }\n",
    "}"
   ]
  },
  {
   "cell_type": "code",
   "execution_count": 10,
   "metadata": {},
   "outputs": [],
   "source": [
    "res.update({\n",
    "    \"application/vnd.yvis.v1+json\": data\n",
    "}, raw=True)"
   ]
  },
  {
   "cell_type": "code",
   "execution_count": null,
   "metadata": {},
   "outputs": [],
   "source": []
  }
 ],
 "metadata": {
  "kernelspec": {
   "display_name": "Python 3",
   "language": "python",
   "name": "python3"
  },
  "language_info": {
   "codemirror_mode": {
    "name": "ipython",
    "version": 3
   },
   "file_extension": ".py",
   "mimetype": "text/x-python",
   "name": "python",
   "nbconvert_exporter": "python",
   "pygments_lexer": "ipython3",
   "version": "3.7.0"
  }
 },
 "nbformat": 4,
 "nbformat_minor": 4
}
